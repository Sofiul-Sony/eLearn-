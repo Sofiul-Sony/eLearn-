{
 "cells": [
  {
   "cell_type": "code",
   "execution_count": 1,
   "metadata": {},
   "outputs": [],
   "source": [
    "import numpy as np\n",
    "import os, os.path\n",
    "import csv \n",
    "from sklearn.utils import shuffle\n",
    "from sklearn.model_selection import  StratifiedKFold\n",
    "from collections import namedtuple\n",
    "from sklearn import tree\n",
    "import math\n",
    "import matplotlib.pyplot as plt\n",
    "import numpy.matlib\n",
    "from sklearn.model_selection import train_test_split"
   ]
  },
  {
   "cell_type": "code",
   "execution_count": 2,
   "metadata": {},
   "outputs": [],
   "source": [
    "def CalculateEpsilon (D , PredictionSet , Labels ) :\n",
    "    PredictionSet = np.array(PredictionSet)\n",
    "    Labels = np.array(Labels)\n",
    "    ErrorIndeces = np.where(PredictionSet !=Labels)[0]\n",
    "    EpsilonKT = sum(np.take(D, ErrorIndeces))\n",
    "    return EpsilonKT / (1 - EpsilonKT)"
   ]
  },
  {
   "cell_type": "code",
   "execution_count": 3,
   "metadata": {},
   "outputs": [],
   "source": [
    "def ClassifyEnsemble (NetBeta, Netmclass, NetClassifiers , Data, Label, Limit):\n",
    "    Weights = []\n",
    "    for Value in (np.array(NetBeta)) : \n",
    "        #print(Value)\n",
    "        if Value == 0 :\n",
    "            np.inf\n",
    "            Weights.append(np.inf)\n",
    "        else :\n",
    "            Weights.append(math.log10(1/Value))\n",
    "    Weights = np.array(Weights)\n",
    "    P = np.zeros((len(Label),Netmclass))\n",
    "    for k in range(0,Limit) :\n",
    "        PredictionK = NetClassifiers[k].predict(Data)\n",
    "        PredictionK = np.array(PredictionK)\n",
    "        #print(PredictionK.shape ,P.shape , Weights.shape )\n",
    "        \n",
    "        for m in range(0, len(PredictionK)) : \n",
    "            #print(\"[m]\" ,m )\n",
    "            #print(\"PredictionK[m]\" ,PredictionK[m] )\n",
    "            #print(\"P[m,PredictionK[m]] \" ,P[m][int(PredictionK[m])]  )\n",
    "            P[m][int(PredictionK[m])]  = P[m][int(PredictionK[m])] + Weights[k]\n",
    "    return np.argmax(P,axis=1) , np.matlib.repmat(np.sum(P,axis = 1)[..., None],1,2)\n",
    "\n"
   ]
  },
  {
   "cell_type": "code",
   "execution_count": 4,
   "metadata": {},
   "outputs": [],
   "source": [
    "def Learn(Net , DataTrain , LabelTrain, DataTest, LabelTest):\n",
    "    Tk = Net.iterations #number of classifiers to generate\n",
    "    K = len(DataTrain) #number of data sets \n",
    "    ###### porer code ta kaj na korle aita use kormu\n",
    "    #NetClassifiers = []\n",
    "    #for i in range(0,Tk*K) : \n",
    "    #    NetClassifiers.append([])\n",
    "    #NetClassifiers = np.array(NetClassifiers)\n",
    "    #\n",
    "    NetClassifiers = []\n",
    "    NetBeta = []\n",
    "    ClassifierCout = 0\n",
    "    Error = []\n",
    "    \n",
    "    for IndexK in range(0,K):\n",
    "        DataTrainK = DataTrain[IndexK]\n",
    "        LabelTrainK = LabelTrain[IndexK]\n",
    "        DataTestK = DataTest[IndexK]\n",
    "        LabelTestK = LabelTest[IndexK]\n",
    "        TrainLength = len(LabelTrainK)\n",
    "        D = np.ones(TrainLength) / TrainLength\n",
    "        if IndexK > 0 :\n",
    "            #print(\"if K > 0 :\")\n",
    "            PredictionsTrainEnsemble , Posterior = ClassifyEnsemble (NetBeta, Net.mclass,NetClassifiers ,DataTrainK, LabelTrainK, ClassifierCout)\n",
    "            EpsilonKT = CalculateEpsilon(D,PredictionsTrainEnsemble,LabelTrainK)\n",
    "            BetaKT = EpsilonKT / (1-EpsilonKT)\n",
    "            MatchedIndeces = np.where(PredictionsTrainEnsemble ==LabelTrainK)[0]\n",
    "            np.put(D, MatchedIndeces, BetaKT* np.take(D, MatchedIndeces))\n",
    "            \n",
    "        for t in range(0,Tk) : \n",
    "            D = D / np.sum(D)\n",
    "\n",
    "            #ki kormu bujtasi na bal\n",
    "            if len(DataTrainK) == len(LabelTrainK):\n",
    "                clf = tree.DecisionTreeClassifier()\n",
    "                NetClassifiers.append(clf.fit(DataTrainK, LabelTrainK))\n",
    "                PredictionOnTrainSet = NetClassifiers[ClassifierCout].predict(DataTrainK)\n",
    "                NetBeta.append(CalculateEpsilon(D,PredictionOnTrainSet , LabelTrainK))  \n",
    "                #print(\"NetBeta :\" , NetBeta)\n",
    "                PredictionsTrainEnsemble , Posterior = ClassifyEnsemble (NetBeta, Net.mclass, NetClassifiers ,DataTrainK, LabelTrainK, ClassifierCout)\n",
    "                \n",
    "                EpsilonKT = CalculateEpsilon(D,PredictionsTrainEnsemble,LabelTrainK)\n",
    "                if EpsilonKT > 0.5 : \n",
    "                    EpsilonKT = 0.5\n",
    "                BetaKT = EpsilonKT / (1-EpsilonKT)\n",
    "                \n",
    "                MatchedIndeces = np.where(PredictionsTrainEnsemble ==LabelTrainK)[0]\n",
    "                np.put(D, MatchedIndeces, BetaKT* np.take(D, MatchedIndeces))\n",
    "                D = D / np.sum(D)\n",
    "                \n",
    "    \n",
    "                PredictionsTestEnmble , Posterior = ClassifyEnsemble (NetBeta, Net.mclass,\n",
    "                                NetClassifiers ,DataTestK, LabelTestK, ClassifierCout)\n",
    "                Error.append(len(np.where(PredictionsTestEnmble \n",
    "                                          != LabelTestK)[0]) / len(LabelTestK))\n",
    "                #PredictionOnTestSet = NetClassifiers[ClassifierCout].predict(DataTestK)\n",
    "                #NetBeta = CalculateEpsilon(D,PredictionOnTrainSet , LabelTrainK)\n",
    "                #PredictionOnTestSet = np.array(PredictionOnTestSet)\n",
    "                #LabelTestK = np.array(LabelTest[IndexK])\n",
    "                #TestSetError = np.where(PredictionOnTestSet !=LabelTestK)[0]\n",
    "                #print(\"TestSetError\" , TestSetError)\n",
    "                #b = sum(np.take(D, TestSetError))\n",
    "                #print(\"b\" , b)\n",
    "\n",
    "            else:\n",
    "                print(\"Error\")\n",
    "            if (Error[ClassifierCout]) == 0 : \n",
    "                print(\"t = \" , t , \" , Error 0 asse\")\n",
    "            ClassifierCout = ClassifierCout + 1 \n",
    "\n",
    "            \n",
    "    return Error , ClassifierCout ,NetClassifiers"
   ]
  },
  {
   "cell_type": "code",
   "execution_count": 5,
   "metadata": {},
   "outputs": [],
   "source": [
    "def TestLearn():\n",
    "    K =5\n",
    "    DataYes = np.loadtxt('FeatureYes.txt',dtype=float)\n",
    "    DataNo = np.loadtxt('FeaturesNo.txt',dtype=float)\n",
    "    DataX = np.array(DataYes.tolist()  + DataNo.tolist() )\n",
    "    DataY = np.array(np.ones(len(DataYes)).tolist() + np.zeros(len(DataNo)).tolist())\n",
    "    DataX , DataY = shuffle(DataX , DataY)\n",
    "    DataX, X_test, DataY, y_test = train_test_split(DataX, DataY, test_size=0.20, random_state=42)\n",
    "    Test = [X_test , y_test]\n",
    "    UniqueClass = np.unique(DataY)  #u\n",
    "    DataTrainCell = []\n",
    "    LabelTrainCell = []\n",
    "    DataTestCell = []\n",
    "    LabelTestCell = []\n",
    "    skf = StratifiedKFold(n_splits=K, random_state=None, shuffle=True)\n",
    "    for train_index, test_index in skf.split(DataX, DataY):\n",
    "        #print(\"TRAIN:\", train_index )\n",
    "        #print( \"TEST:\", test_index)\n",
    "        DataTrainCell.append(DataX[train_index])\n",
    "        DataTestCell.append(DataX[test_index])\n",
    "        LabelTrainCell.append(DataY[train_index])\n",
    "        LabelTestCell.append(DataY[test_index])\n",
    "        \n",
    "    MyStructModel = namedtuple( \"MyStructModel\", \"Type\")\n",
    "    Model = MyStructModel (Type =\"Cart\")\n",
    "    MyStructNet = namedtuple( \"MyStructNet\", \"base_classifier iterations mclass classifiers beta\")\n",
    "    Net = MyStructNet (base_classifier = Model ,iterations =  3 , mclass =len(UniqueClass) , \n",
    "                       classifiers = None , beta = None)\n",
    "    Error , Count , NetClassifiers= Learn(Net , DataTrainCell,LabelTrainCell,DataTestCell,LabelTestCell) \n",
    "    return Error , Count ,NetClassifiers,Test"
   ]
  },
  {
   "cell_type": "code",
   "execution_count": 6,
   "metadata": {},
   "outputs": [
    {
     "name": "stderr",
     "output_type": "stream",
     "text": [
      "<ipython-input-4-c8469bf1d762>:49: RuntimeWarning: invalid value encountered in true_divide\n",
      "  D = D / np.sum(D)\n"
     ]
    },
    {
     "name": "stdout",
     "output_type": "stream",
     "text": [
      "t =  0  , Error 0 asse\n",
      "t =  0  , Error 0 asse\n",
      "t =  0  , Error 0 asse\n",
      "t =  0  , Error 0 asse\n"
     ]
    }
   ],
   "source": [
    "Error , Count,Net,Test = TestLearn()"
   ]
  },
  {
   "cell_type": "code",
   "execution_count": 7,
   "metadata": {},
   "outputs": [
    {
     "data": {
      "image/png": "[encoded data removed]",
      "text/plain": [
       "<Figure size 432x288 with 1 Axes>"
      ]
     },
     "metadata": {
      "needs_background": "light"
     },
     "output_type": "display_data"
    }
   ],
   "source": [
    "plt.plot(Error)\n",
    "plt.ylabel('some numbers')\n",
    "plt.show()"
   ]
  },
  {
   "cell_type": "code",
   "execution_count": 9,
   "metadata": {},
   "outputs": [
    {
     "data": {
      "text/plain": [
       "0.8208955223880597"
      ]
     },
     "execution_count": 9,
     "metadata": {},
     "output_type": "execute_result"
    }
   ],
   "source": [
    "a = Net[Count-1].predict(Test[0])\n",
    "s =0 \n",
    "for i in range(len(a)) : \n",
    "    if Test[1][i] == a[i] : \n",
    "        s +=1 \n",
    "s /=len(a)\n",
    "s"
   ]
  },
  {
   "cell_type": "code",
   "execution_count": 10,
   "metadata": {},
   "outputs": [],
   "source": [
    "PredictionOnTrainSet = []\n",
    "for i in range(0,Count) : \n",
    "    PredictionOnTrainSet.append( Net[i].predict(Test[0]))"
   ]
  },
  {
   "cell_type": "code",
   "execution_count": 11,
   "metadata": {},
   "outputs": [],
   "source": [
    "FinalPrediction = []\n",
    "for EachTestCase in range(0, len(Test[1])) : \n",
    "    count1 = 0 \n",
    "    count0 = 0 \n",
    "    for i in range(0,Count) : \n",
    "        if PredictionOnTrainSet[i][EachTestCase] == 1 :\n",
    "            count1 += 1\n",
    "        if PredictionOnTrainSet[i][EachTestCase] == 0 :\n",
    "            count0 += 1\n",
    "    if count1>count0 : \n",
    "        FinalPrediction.append(1)\n",
    "    else : \n",
    "        FinalPrediction.append(0)\n"
   ]
  },
  {
   "cell_type": "code",
   "execution_count": 12,
   "metadata": {},
   "outputs": [
    {
     "data": {
      "text/plain": [
       "0.8134328358208955"
      ]
     },
     "execution_count": 12,
     "metadata": {},
     "output_type": "execute_result"
    }
   ],
   "source": [
    "acc = 0 \n",
    "for i in range(len(FinalPrediction)) : \n",
    "    if FinalPrediction[i] == Test[1][i] : \n",
    "        acc +=1 \n",
    "acc /= len(FinalPrediction)\n",
    "acc"
   ]
  },
  {
   "cell_type": "code",
   "execution_count": 44,
   "metadata": {},
   "outputs": [
    {
     "data": {
      "image/png": "[encoded data removed]",
      "text/plain": [
       "<Figure size 432x288 with 1 Axes>"
      ]
     },
     "metadata": {
      "needs_background": "light"
     },
     "output_type": "display_data"
    }
   ],
   "source": [
    "import matplotlib.pyplot as plt\n",
    "import numpy as np\n",
    "import pandas as pd\n",
    "\n",
    "# Data\n",
    "\n",
    "df=pd.DataFrame({'Iteration': range(0,len(Error)), 'Our model': Error, 'Learn++':  np.loadtxt('MatlabData.txt',dtype=float) })\n",
    "\n",
    "# multiple line plot\n",
    "plt.plot( 'Iteration', 'Our model', data=df, marker='', markerfacecolor='blue', markersize=12, color='skyblue', linewidth=2)\n",
    "plt.plot( 'Iteration', 'Learn++', data=df, marker='', color='olive', linewidth=2)\n",
    "plt.legend()\n",
    "plt.savefig('testplot.png')"
   ]
  },
  {
   "cell_type": "code",
   "execution_count": 42,
   "metadata": {},
   "outputs": [],
   "source": [
    "import matplotlib.pyplot as plt\n",
    "import itertools\n",
    "def plot_cm(cf):\n",
    "    plt.figure(figsize = (6,6))\n",
    "    plt.imshow(cf,cmap=plt.cm.Blues,interpolation='nearest')\n",
    "    plt.colorbar()\n",
    "    plt.xlabel('Predicted')\n",
    "    plt.ylabel('Actual')\n",
    "    tick_marks = np.arange(len(set(y_test))) # length of classes\n",
    "    class_labels = ['0','1']\n",
    "    tick_marks\n",
    "    plt.xticks(tick_marks,class_labels)\n",
    "    plt.yticks(tick_marks,class_labels)\n",
    "    # plotting text value inside cells\n",
    "    thresh = cf.max() / 2.\n",
    "    for i,j in itertools.product(range(cf.shape[0]),range(cf.shape[1])):\n",
    "        plt.text(j,i,format(cf[i,j],'d'),horizontalalignment='center',color='white' if cf[i,j] >thresh else 'black')\n",
    "    plt.show();\n",
    "    plt.savefig('Confusion.png')"
   ]
  },
  {
   "cell_type": "code",
   "execution_count": 58,
   "metadata": {},
   "outputs": [
    {
     "data": {
      "image/png": "[encoded data removed]",
      "text/plain": [
       "<Figure size 432x432 with 2 Axes>"
      ]
     },
     "metadata": {
      "needs_background": "light"
     },
     "output_type": "display_data"
    },
    {
     "name": "stdout",
     "output_type": "stream",
     "text": [
      "0.7962962962962963\n"
     ]
    },
    {
     "data": {
      "text/plain": [
       "<Figure size 432x288 with 0 Axes>"
      ]
     },
     "metadata": {},
     "output_type": "display_data"
    }
   ],
   "source": [
    "from sklearn.metrics import confusion_matrix\n",
    "y_test = Test[1]\n",
    "pred = FinalPrediction\n",
    "ourCM = confusion_matrix(y_test, pred)\n",
    "plot_cm(ourCM)"
   ]
  },
  {
   "cell_type": "code",
   "execution_count": 60,
   "metadata": {},
   "outputs": [
    {
     "name": "stdout",
     "output_type": "stream",
     "text": [
      "0.8134328358208955\n",
      "0.7962962962962963\n"
     ]
    }
   ],
   "source": [
    "print((ourCM[0][0] + ourCM[1][1]) / (ourCM[0][0]+ourCM[0][1]+ourCM[1][0]+ourCM[1][1]))\n",
    "print((ourCM[0][0] ) / (ourCM[0][0]+ourCM[1][0]))\n"
   ]
  },
  {
   "cell_type": "code",
   "execution_count": 57,
   "metadata": {},
   "outputs": [
    {
     "data": {
      "image/png": "[encoded data removed]",
      "text/plain": [
       "<Figure size 432x432 with 2 Axes>"
      ]
     },
     "metadata": {
      "needs_background": "light"
     },
     "output_type": "display_data"
    },
    {
     "name": "stdout",
     "output_type": "stream",
     "text": [
      "0.8134328358208955\n",
      "0.7241379310344828\n"
     ]
    },
    {
     "data": {
      "text/plain": [
       "<Figure size 432x288 with 0 Axes>"
      ]
     },
     "metadata": {},
     "output_type": "display_data"
    }
   ],
   "source": [
    "DataYes = np.loadtxt('FeatureYes.txt',dtype=float)\n",
    "DataNo = np.loadtxt('FeaturesNo.txt',dtype=float)\n",
    "DataX = np.array(DataYes.tolist()  + DataNo.tolist() )\n",
    "DataY = np.array(np.ones(len(DataYes)).tolist() + np.zeros(len(DataNo)).tolist())\n",
    "DataX , DataY = shuffle(DataX , DataY)\n",
    "DataX, X_test, DataY, y_test = train_test_split(DataX, DataY, test_size=0.20, random_state=42)\n",
    "\n",
    "clf = tree.DecisionTreeClassifier()\n",
    "model = clf.fit(DataX, DataY)\n",
    "pred = model.predict(X_test)\n",
    "cm = confusion_matrix(y_test, pred)\n",
    "plot_cm(cm)\n",
    "print((cm[0][0] + cm[1][1]) / (cm[0][0]+cm[0][1]+cm[1][0]+cm[1][1])) \n",
    "print((cm[0][0] ) / (cm[0][0]+cm[1][0]))"
   ]
  },
  {
   "cell_type": "code",
   "execution_count": 62,
   "metadata": {},
   "outputs": [
    {
     "data": {
      "image/png": "[encoded data removed]",
      "text/plain": [
       "<Figure size 432x432 with 2 Axes>"
      ]
     },
     "metadata": {
      "needs_background": "light"
     },
     "output_type": "display_data"
    },
    {
     "name": "stdout",
     "output_type": "stream",
     "text": [
      "0.8208955223880597\n",
      "0.7894736842105263\n"
     ]
    },
    {
     "data": {
      "text/plain": [
       "<Figure size 432x288 with 0 Axes>"
      ]
     },
     "metadata": {},
     "output_type": "display_data"
    }
   ],
   "source": [
    "y_test = Test[1]\n",
    "pred = PredictionOnTrainSet[Count-1]\n",
    "ourCM = confusion_matrix(y_test, pred)\n",
    "plot_cm(ourCM)\n",
    "print((ourCM[0][0] + ourCM[1][1]) / (ourCM[0][0]+ourCM[0][1]+ourCM[1][0]+ourCM[1][1]))\n",
    "print((ourCM[0][0] ) / (ourCM[0][0]+ourCM[1][0]))"
   ]
  }
 ],
 "metadata": {
  "kernelspec": {
   "display_name": "Python 3",
   "language": "python",
   "name": "python3"
  },
  "language_info": {
   "codemirror_mode": {
    "name": "ipython",
    "version": 3
   },
   "file_extension": ".py",
   "mimetype": "text/x-python",
   "name": "python",
   "nbconvert_exporter": "python",
   "pygments_lexer": "ipython3",
   "version": "3.8.3"
  }
 },
 "nbformat": 4,
 "nbformat_minor": 4
}
