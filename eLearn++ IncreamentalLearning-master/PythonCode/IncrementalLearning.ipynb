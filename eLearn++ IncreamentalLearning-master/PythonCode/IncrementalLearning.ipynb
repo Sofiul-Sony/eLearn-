{
 "cells": [
  {
   "cell_type": "code",
   "execution_count": 113,
   "metadata": {},
   "outputs": [],
   "source": [
    "import numpy as np\n",
    "import os, os.path\n",
    "import csv \n",
    "from sklearn.utils import shuffle\n",
    "from sklearn.model_selection import  StratifiedKFold\n",
    "from collections import namedtuple\n",
    "from sklearn import tree\n",
    "import math\n",
    "import matplotlib.pyplot as plt\n"
   ]
  },
  {
   "cell_type": "code",
   "execution_count": 114,
   "metadata": {},
   "outputs": [],
   "source": [
    "def LoadIonosphere(Location):\n",
    "    Data = []\n",
    "    for FileName in os.listdir(Location):\n",
    "        if FileName.endswith(\".csv\"):\n",
    "            with open(Location + '/'+FileName, 'r') as File: \n",
    "                csvReader = csv.reader(File)\n",
    "                for Row in csvReader:        \n",
    "                    Data.append(Row) \n",
    "    X = []\n",
    "    Y = []\n",
    "    Flag = True\n",
    "    for Row in Data : \n",
    "        if Flag : \n",
    "            Flag = False\n",
    "            continue \n",
    "        i = 0 \n",
    "        n = len(Row)-1\n",
    "        RowX = []\n",
    "        for Value in Row : \n",
    "            if i < n :\n",
    "                RowX.append(float(Value))\n",
    "            else:\n",
    "                Y.append(Value)\n",
    "            i = i+1 \n",
    "        X.append(RowX)\n",
    "    return np.array(X) , np.array(Y) \n"
   ]
  },
  {
   "cell_type": "code",
   "execution_count": 115,
   "metadata": {},
   "outputs": [],
   "source": [
    "def TestLearn():\n",
    "    K = 5 \n",
    "    DataX , DataY = LoadIonosphere(\"../\") # X ,Y\n",
    "    DataX , DataY = shuffle(DataX , DataY)\n",
    "    UniqueClass = np.unique(DataY)  #u\n",
    "    Labels = np.zeros(len(DataY))   #labels\n",
    "    for i  in range(0,len(DataY)):\n",
    "        for j in range(0,len(UniqueClass)):\n",
    "            if UniqueClass[j] == DataY [i] : \n",
    "                Labels[i] = j\n",
    "                break \n",
    "    DataTrainCell = []\n",
    "    LabelTrainCell = []\n",
    "    DataTestCell = []\n",
    "    LabelTestCell = []\n",
    "    skf = StratifiedKFold(n_splits=5, random_state=None, shuffle=True)\n",
    "    for train_index, test_index in skf.split(DataX, Labels):\n",
    "        #print(\"TRAIN:\", train_index )\n",
    "        #print( \"TEST:\", test_index)\n",
    "        DataTrainCell.append(DataX[train_index])\n",
    "        DataTestCell.append(DataX[test_index])\n",
    "        LabelTrainCell.append(Labels[train_index])\n",
    "        LabelTestCell.append(Labels[test_index])\n",
    "        \n",
    "    MyStructModel = namedtuple( \"MyStructModel\", \"Type\")\n",
    "    Model = MyStructModel (Type =\"Cart\")\n",
    "    MyStructNet = namedtuple( \"MyStructNet\", \"base_classifier iterations mclass classifiers beta\")\n",
    "    Net = MyStructNet (base_classifier = Model ,iterations =  3 , mclass =len(UniqueClass) , \n",
    "                       classifiers = None , beta = None)\n",
    "    return Learn(Net , DataTrainCell,LabelTrainCell,DataTestCell,LabelTestCell)\n",
    "     "
   ]
  },
  {
   "cell_type": "code",
   "execution_count": 116,
   "metadata": {},
   "outputs": [],
   "source": [
    "def CalculateEpsilon (D , PredictionSet , Labels ) :\n",
    "    PredictionSet = np.array(PredictionSet)\n",
    "    Labels = np.array(Labels)\n",
    "    ErrorIndeces = np.where(PredictionSet !=Labels)[0]\n",
    "    EpsilonKT = sum(np.take(D, ErrorIndeces))\n",
    "    return EpsilonKT / (1 - EpsilonKT)"
   ]
  },
  {
   "cell_type": "code",
   "execution_count": 192,
   "metadata": {},
   "outputs": [],
   "source": [
    "def ClassifyEnsemble (NetBeta, Netmclass, NetClassifiers , Data, Label, Limit):\n",
    "    Weights = []\n",
    "    for Value in (np.array(NetBeta)) : \n",
    "        #print(Value)\n",
    "        if Value == 0 :\n",
    "            np.inf\n",
    "            Weights.append(np.inf)\n",
    "        else :\n",
    "            Weights.append(math.log10(1/Value))\n",
    "    Weights = np.array(Weights)\n",
    "    P = np.zeros((len(Label),Netmclass))\n",
    "    for k in range(0,Limit) :\n",
    "        PredictionK = NetClassifiers[k].predict(Data)\n",
    "        PredictionK = np.array(PredictionK)\n",
    "        #print(PredictionK.shape ,P.shape , Weights.shape )\n",
    "        \n",
    "        for m in range(0, len(PredictionK)) : \n",
    "            #print(\"[m]\" ,m )\n",
    "            #print(\"PredictionK[m]\" ,PredictionK[m] )\n",
    "            #print(\"P[m,PredictionK[m]] \" ,P[m][int(PredictionK[m])]  )\n",
    "            P[m][int(PredictionK[m])]  = P[m][int(PredictionK[m])] + Weights[k]\n",
    "    return np.argmax(P,axis=1) , np.matlib.repmat(np.sum(P,axis = 1)[..., None],1,2)"
   ]
  },
  {
   "cell_type": "code",
   "execution_count": 217,
   "metadata": {},
   "outputs": [],
   "source": [
    "def Learn(Net , DataTrain , LabelTrain, DataTest, LabelTest):\n",
    "    Tk = Net.iterations #number of classifiers to generate\n",
    "    K = len(DataTrain) #number of data sets \n",
    "    ###### porer code ta kaj na korle aita use kormu\n",
    "    #NetClassifiers = []\n",
    "    #for i in range(0,Tk*K) : \n",
    "    #    NetClassifiers.append([])\n",
    "    #NetClassifiers = np.array(NetClassifiers)\n",
    "    #\n",
    "    NetClassifiers = []\n",
    "    NetBeta = []\n",
    "    ClassifierCout = 0\n",
    "    Error = []\n",
    "    \n",
    "    for IndexK in range(0,K):\n",
    "        DataTrainK = DataTrain[IndexK]\n",
    "        LabelTrainK = LabelTrain[IndexK]\n",
    "        DataTestK = DataTest[IndexK]\n",
    "        LabelTestK = LabelTest[IndexK]\n",
    "        TrainLength = len(LabelTrainK)\n",
    "        D = np.ones(TrainLength) / TrainLength\n",
    "        if IndexK > 0 :\n",
    "            #print(\"if K > 0 :\")\n",
    "            PredictionsTrainEnsemble , Posterior = ClassifyEnsemble (NetBeta, Net.mclass,\n",
    "                                NetClassifiers ,DataTrainK, LabelTrainK, ClassifierCout)\n",
    "            EpsilonKT = CalculateEpsilon(D,PredictionsTrainEnsemble,LabelTrainK)\n",
    "            BetaKT = EpsilonKT / (1-EpsilonKT)\n",
    "            MatchedIndeces = np.where(PredictionsTrainEnsemble ==LabelTrainK)[0]\n",
    "            np.put(D, MatchedIndeces, BetaKT* np.take(D, MatchedIndeces))\n",
    "            \n",
    "        for t in range(0,Tk) : \n",
    "            D = D / np.sum(D)\n",
    "\n",
    "            #ki kormu bujtasi na bal\n",
    "            if len(DataTrainK) == len(LabelTrainK):\n",
    "                clf = tree.DecisionTreeClassifier()\n",
    "                NetClassifiers.append(clf.fit(DataTrainK, LabelTrainK))\n",
    "                PredictionOnTrainSet = NetClassifiers[ClassifierCout].predict(DataTrainK)\n",
    "                NetBeta.append(CalculateEpsilon(D,PredictionOnTrainSet , LabelTrainK))  \n",
    "                #print(\"NetBeta :\" , NetBeta)\n",
    "                PredictionsTrainEnsemble , Posterior = ClassifyEnsemble (NetBeta, Net.mclass,\n",
    "                                NetClassifiers ,DataTrainK, LabelTrainK, ClassifierCout)\n",
    "                EpsilonKT = CalculateEpsilon(D,PredictionsTrainEnsemble,LabelTrainK)\n",
    "                if EpsilonKT > 0.5 : \n",
    "                    EpsilonKT = 0.5\n",
    "                BetaKT = EpsilonKT / (1-EpsilonKT)\n",
    "                \n",
    "                MatchedIndeces = np.where(PredictionsTrainEnsemble ==LabelTrainK)[0]\n",
    "                np.put(D, MatchedIndeces, BetaKT* np.take(D, MatchedIndeces))\n",
    "                D = D / np.sum(D)\n",
    "                \n",
    "    \n",
    "                PredictionsTestEnmble , Posterior = ClassifyEnsemble (NetBeta, Net.mclass,\n",
    "                                NetClassifiers ,DataTestK, LabelTestK, ClassifierCout)\n",
    "                Error.append(len(np.where(PredictionsTestEnmble \n",
    "                                          != LabelTestK)[0]) / len(LabelTestK))\n",
    "                #PredictionOnTestSet = NetClassifiers[ClassifierCout].predict(DataTestK)\n",
    "                #NetBeta = CalculateEpsilon(D,PredictionOnTrainSet , LabelTrainK)\n",
    "                #PredictionOnTestSet = np.array(PredictionOnTestSet)\n",
    "                #LabelTestK = np.array(LabelTest[IndexK])\n",
    "                #TestSetError = np.where(PredictionOnTestSet !=LabelTestK)[0]\n",
    "                #print(\"TestSetError\" , TestSetError)\n",
    "                #b = sum(np.take(D, TestSetError))\n",
    "                #print(\"b\" , b)\n",
    "\n",
    "            else:\n",
    "                print(\"Error\")\n",
    "            if (Error[ClassifierCout]) == 0 : \n",
    "                print(\"t = \" , t , \" , Error 0 asse\")\n",
    "            ClassifierCout = ClassifierCout + 1 \n",
    "\n",
    "            \n",
    "    return Error , ClassifierCout"
   ]
  },
  {
   "cell_type": "code",
   "execution_count": 218,
   "metadata": {},
   "outputs": [
    {
     "name": "stdout",
     "output_type": "stream",
     "text": [
      "t =  0  , Error 0 asse\n",
      "t =  0  , Error 0 asse\n",
      "t =  0  , Error 0 asse\n",
      "t =  0  , Error 0 asse\n",
      "15\n",
      "15\n",
      "[0.6338028169014085, 0.14084507042253522, 0.14084507042253522, 0.0, 0.08571428571428572, 0.08571428571428572, 0.0, 0.05714285714285714, 0.05714285714285714, 0.0, 0.014285714285714285, 0.02857142857142857, 0.0, 0.02857142857142857, 0.04285714285714286]\n"
     ]
    },
    {
     "name": "stderr",
     "output_type": "stream",
     "text": [
      "<ipython-input-217-3636ddf93df2>:50: RuntimeWarning: invalid value encountered in true_divide\n",
      "  D = D / np.sum(D)\n"
     ]
    }
   ],
   "source": [
    "Error , Count = TestLearn()\n",
    "print(Count)\n",
    "print(len(Error))\n",
    "print(Error)"
   ]
  },
  {
   "cell_type": "code",
   "execution_count": 208,
   "metadata": {},
   "outputs": [
    {
     "data": {
      "image/png": "[encoded data removed]",
      "text/plain": [
       "<Figure size 432x288 with 1 Axes>"
      ]
     },
     "metadata": {
      "needs_background": "light"
     },
     "output_type": "display_data"
    }
   ],
   "source": [
    "plt.plot(Error)\n",
    "plt.ylabel('some numbers')\n",
    "plt.show()\n",
    "\n"
   ]
  }
 ],
 "metadata": {
  "kernelspec": {
   "display_name": "Python 3",
   "language": "python",
   "name": "python3"
  },
  "language_info": {
   "codemirror_mode": {
    "name": "ipython",
    "version": 3
   },
   "file_extension": ".py",
   "mimetype": "text/x-python",
   "name": "python",
   "nbconvert_exporter": "python",
   "pygments_lexer": "ipython3",
   "version": "3.8.3"
  }
 },
 "nbformat": 4,
 "nbformat_minor": 4
}
